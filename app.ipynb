{
  "nbformat": 4,
  "nbformat_minor": 0,
  "metadata": {
    "colab": {
      "name": "app.ipynb",
      "provenance": [],
      "collapsed_sections": []
    },
    "kernelspec": {
      "name": "python3",
      "display_name": "Python 3"
    },
    "language_info": {
      "name": "python"
    }
  },
  "cells": [
    {
      "cell_type": "code",
      "metadata": {
        "colab": {
          "base_uri": "https://localhost:8080/",
          "height": 34
        },
        "id": "6R8i0LpUvSDG",
        "outputId": "60cf4c80-55d0-48f0-b444-69a8d6929bb3"
      },
      "source": [
        "from google.colab.output import eval_js\n",
        "print(eval_js(\"google.colab.kernel.proxyPort(5000)\"))"
      ],
      "execution_count": 1,
      "outputs": [
        {
          "output_type": "stream",
          "text": [
            "https://qkw8gzpgr-496ff2e9c6d22116-5000-colab.googleusercontent.com/\n"
          ],
          "name": "stdout"
        }
      ]
    },
    {
      "cell_type": "code",
      "metadata": {
        "colab": {
          "base_uri": "https://localhost:8080/"
        },
        "id": "LpPy7CJQmfvN",
        "outputId": "657b4372-7d9b-4074-a342-9816bd53c94b"
      },
      "source": [
        "import requests\n",
        "from flask import Flask,request,render_template,redirect\n",
        "url=\"https://api.covid19india.org/v4/data.json\"\n",
        "page=requests.get(url)\n",
        "d=page.json()\n",
        "app=Flask(__name__,template_folder=\"/content\")\n",
        "@app.route(\"/home\",methods=[\"GET\",\"POST\"])\n",
        "def home():\n",
        "    if(request.method==\"GET\"):\n",
        "        print(\"hi\")\n",
        "        return render_template(\"home.html\")\n",
        "    else:\n",
        "        firstname=request.form[\"firstname\"]\n",
        "        lastname=request.form[\"lastname\"]\n",
        "        email=request.form[\"email\"]\n",
        "        aadhar=request.form[\"aadhar\"]\n",
        "        mobile=request.form['mobile']\n",
        "        date=request.form['date']\n",
        "        ss=request.form[\"source\"]\n",
        "        ds=request.form[\"dest\"]\n",
        "        destination_state_population=d[ds][\"meta\"][\"population\"]\n",
        "        destination_state_confirmed_cases=d[ds][\"total\"][\"confirmed\"]\n",
        "        print(destination_state_confirmed_cases/destination_state_population)\n",
        "        if((destination_state_confirmed_cases/destination_state_population)*100<=8):\n",
        "            return render_template(\"status.html\",firstname=firstname,lastname=lastname,status=\"confirmed\",email=email)\n",
        "        else:\n",
        "            status=\"not confirmed,because destination state has more covid effected people we care for your health\"\n",
        "            return render_template(\"status.html\",firstname=firstname,lastname=lastname,status=status,email=email)\n",
        "app.run()"
      ],
      "execution_count": 3,
      "outputs": [
        {
          "output_type": "stream",
          "text": [
            " * Serving Flask app \"__main__\" (lazy loading)\n",
            " * Environment: production\n",
            "\u001b[31m   WARNING: This is a development server. Do not use it in a production deployment.\u001b[0m\n",
            "\u001b[2m   Use a production WSGI server instead.\u001b[0m\n",
            " * Debug mode: off\n"
          ],
          "name": "stdout"
        },
        {
          "output_type": "stream",
          "text": [
            " * Running on http://127.0.0.1:5000/ (Press CTRL+C to quit)\n",
            "127.0.0.1 - - [20/May/2021 12:42:28] \"GET /home HTTP/1.1\" 200 -\n"
          ],
          "name": "stderr"
        },
        {
          "output_type": "stream",
          "text": [
            "hi\n"
          ],
          "name": "stdout"
        },
        {
          "output_type": "stream",
          "text": [
            "127.0.0.1 - - [20/May/2021 12:42:29] \"\u001b[33mGET /favicon.ico HTTP/1.1\u001b[0m\" 404 -\n",
            "127.0.0.1 - - [20/May/2021 12:42:55] \"POST /home HTTP/1.1\" 200 -\n"
          ],
          "name": "stderr"
        },
        {
          "output_type": "stream",
          "text": [
            "0.04475974392769723\n"
          ],
          "name": "stdout"
        },
        {
          "output_type": "stream",
          "text": [
            "127.0.0.1 - - [20/May/2021 12:42:55] \"\u001b[33mGET /favicon.ico HTTP/1.1\u001b[0m\" 404 -\n"
          ],
          "name": "stderr"
        }
      ]
    },
    {
      "cell_type": "code",
      "metadata": {
        "id": "bKua5QXZo_cV"
      },
      "source": [
        ""
      ],
      "execution_count": null,
      "outputs": []
    }
  ]
}